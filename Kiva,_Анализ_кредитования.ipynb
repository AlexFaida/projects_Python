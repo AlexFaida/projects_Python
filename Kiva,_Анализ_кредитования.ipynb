{
  "nbformat": 4,
  "nbformat_minor": 0,
  "metadata": {
    "colab": {
      "provenance": [],
      "include_colab_link": true
    },
    "kernelspec": {
      "display_name": "venv",
      "language": "python",
      "name": "venv"
    },
    "language_info": {
      "codemirror_mode": {
        "name": "ipython",
        "version": 3
      },
      "file_extension": ".py",
      "mimetype": "text/x-python",
      "name": "python",
      "nbconvert_exporter": "python",
      "pygments_lexer": "ipython3",
      "version": "3.7.4"
    },
    "toc-showtags": false
  },
  "cells": [
    {
      "cell_type": "markdown",
      "metadata": {
        "id": "view-in-github",
        "colab_type": "text"
      },
      "source": [
        "<a href=\"https://colab.research.google.com/github/AlexFaida/projects_Python/blob/main/Kiva%2C_%D0%90%D0%BD%D0%B0%D0%BB%D0%B8%D0%B7_%D0%BA%D1%80%D0%B5%D0%B4%D0%B8%D1%82%D0%BE%D0%B2%D0%B0%D0%BD%D0%B8%D1%8F.ipynb\" target=\"_parent\"><img src=\"https://colab.research.google.com/assets/colab-badge.svg\" alt=\"Open In Colab\"/></a>"
      ]
    },
    {
      "cell_type": "markdown",
      "metadata": {
        "id": "lxhqbhwbbzkG"
      },
      "source": [
        "#Разведочный анализ данных + Подготовка отчётов — Kiva.org\n",
        "***"
      ]
    },
    {
      "cell_type": "markdown",
      "metadata": {
        "id": "Rb_lwN5FGgoI"
      },
      "source": [
        "#  1. Kiva и её деятельность\n",
        "***\n",
        "<img src=\"https://upload.wikimedia.org/wikipedia/commons/thumb/c/cd/Kiva.org_logo_2016.svg/640px-Kiva.org_logo_2016.svg.png\" width=\"500\" height=\"200\" />\n",
        "\n",
        "Kiva — это некоммерческая организация, которая позволяет нуждающимся более чем в 80 странах мира получать финансирование под различного рода проекты и нужды.\n",
        "\n",
        "Девиз Kiva — **Make a loan, change a life**.\n",
        "\n",
        "В основном деятельность Kiva связана с поддержкой населения, развитием малого бизнеса, а также финансированием социальных проектов.\n",
        "\n",
        "Список заявок, назначений и стран, нуждающихся в финансировании, можно посмотреть на сайте [kiva.org](https://www.kiva.org).\n",
        "Это темы, так или иначе связанные с сельским хозяйством, питанием, здоровьем и гигиеной, розничной торговлей и поддержкой малого бизнеса.\n"
      ]
    },
    {
      "cell_type": "markdown",
      "metadata": {
        "id": "Zu_4QuaeAbCB"
      },
      "source": [
        "## 1.1. Kiva в цифрах\n",
        "***"
      ]
    },
    {
      "cell_type": "markdown",
      "metadata": {
        "id": "S_JI921uAc8A"
      },
      "source": [
        "**На сегодняшний день Kiva выделила более одного миллиарда долларов двум миллионам заемщиков и считается одним из главных участников борьбы с бедностью, особенно во многих африканских странах.**\n",
        "\n",
        "* За время существования Кива помогла 2,7 млн нуждающимся\n",
        "* 1,7 млн небезразличных участников, желающих помочь\n",
        "* 83 страны\n",
        "* Сумма средств, выделенных через Kiva, составляет $1,11 млрд\n",
        "* 97,0% — доля возврата средств инвесторам (очень высокий показатель)\n",
        "* 81% заемщиков Kiva — женщины\n",
        "* Кредит Kiva финансируется каждые две минуты"
      ]
    },
    {
      "cell_type": "markdown",
      "metadata": {
        "id": "-n_ndLmRAhcP"
      },
      "source": [
        "## 1.3. Набор данных от Kiva\n",
        "***"
      ]
    },
    {
      "cell_type": "markdown",
      "metadata": {
        "id": "FmchsGGTAmGi"
      },
      "source": [
        "**kiva_loans** — это набор данных, который содержит большую часть информации о займах:\n",
        "- id — уникальный идентификатор для кредита;\n",
        "- funded_amount — сумма, выплаченная Kiva агенту на местах (USD);\n",
        "- loan_amount — сумма, выплаченная полевым агентом заёмщику (USD);\n",
        "- sector — сектор использования займа;\n",
        "- activity — более гранулированная категория;\n",
        "- use — назначение использования суммы кредита;\n",
        "- country_code — ISO-код страны страны, в которой был выдан заём;\n",
        "- country — полное название страны, в которой был выдан кредит;\n",
        "- posted_time — время, в которое заявка была опубликована на Kiva;\n",
        "- disbursed_time — время, когда кредитный агент выдал заёмщику сумму;\n",
        "- funded_time — время, когда заявка полностью финансируется кредиторами;\n",
        "- term_in_months — срок, на который был выдан кредит, в месяцах;\n",
        "- lender_count — общее количество кредиторов, которые внесли свой вклад в этот кредит;\n",
        "- loaner_genders — разделённые запятыми буквы M и F, где каждый экземпляр представляет одного мужчину / одну женщину в группе.\n",
        "\n",
        "**kiva_mpi_region_locations** — набор данных, содержащий данные о регионах и показатели MPI. Global Multidimensional Poverty Index — глобальный индекс бедности ряда регионов (субнациональных) в мире. Чем больше это значение, тем выше бедность в соответствующем регионе:\n",
        "- country — страна;\n",
        "- region — регион в стране;\n",
        "- world_region — часть света;\n",
        "- MPI — многомерный индекс бедности;\n",
        "- geo — координаты (широта, долгота).\n",
        "\n"
      ]
    },
    {
      "cell_type": "markdown",
      "metadata": {
        "id": "nU0DWA1cHNLo"
      },
      "source": [
        "## Импорт библиотек"
      ]
    },
    {
      "cell_type": "code",
      "metadata": {
        "id": "0Sw1jasUMtpY",
        "outputId": "5bcfbf88-365b-4e1a-a8f1-6da6de5852f3",
        "colab": {
          "base_uri": "https://localhost:8080/"
        }
      },
      "source": [
        "import numpy as np\n",
        "import pandas as pd\n",
        "import math\n",
        "import missingno as msno\n",
        "from datetime import datetime, timedelta\n",
        "\n",
        "import matplotlib.pyplot as plt\n",
        "%matplotlib inline\n",
        "import seaborn as sns\n",
        "plt.style.use('seaborn-darkgrid')\n",
        "palette = plt.get_cmap('Set2')\n",
        "\n",
        "import os"
      ],
      "execution_count": null,
      "outputs": [
        {
          "output_type": "stream",
          "name": "stderr",
          "text": [
            "<ipython-input-1-db0e3586f8da>:10: MatplotlibDeprecationWarning: The seaborn styles shipped by Matplotlib are deprecated since 3.6, as they no longer correspond to the styles shipped by seaborn. However, they will remain available as 'seaborn-v0_8-<style>'. Alternatively, directly use the seaborn API instead.\n",
            "  plt.style.use('seaborn-darkgrid')\n"
          ]
        }
      ]
    },
    {
      "cell_type": "markdown",
      "metadata": {
        "id": "oF9d6_VZHWHO"
      },
      "source": [
        "## Загрузка данных"
      ]
    },
    {
      "cell_type": "markdown",
      "metadata": {
        "id": "187FuWeX9rQb"
      },
      "source": [
        "Для удобства можно загрузить данные в колаб, предварительно их заархивировав, а затем использовать команду `!unzip kiva_loans.csv.zip`.\n",
        "\n",
        "\n",
        "\n"
      ]
    },
    {
      "cell_type": "code",
      "source": [
        "df_kiva_loans = pd.read_csv(\"kiva_loans.csv\")\n",
        "df_mpi = pd.read_csv(\"kiva_mpi_region_locations.csv\")"
      ],
      "metadata": {
        "id": "Ftn8v-J9tNtv"
      },
      "execution_count": null,
      "outputs": []
    },
    {
      "cell_type": "code",
      "source": [
        "df_kiva_loans.head(1)"
      ],
      "metadata": {
        "colab": {
          "base_uri": "https://localhost:8080/",
          "height": 170
        },
        "id": "8dvF_2pnXQpR",
        "outputId": "5dab024f-bbd9-489e-d174-5b49da46e759"
      },
      "execution_count": null,
      "outputs": [
        {
          "output_type": "execute_result",
          "data": {
            "text/plain": [
              "       id  funded_amount  loan_amount             activity sector  \\\n",
              "0  653051          300.0        300.0  Fruits & Vegetables   Food   \n",
              "\n",
              "                                       use country_code   country  region  \\\n",
              "0  To buy seasonal, fresh fruits to sell.            PK  Pakistan  Lahore   \n",
              "\n",
              "  currency  partner_id                posted_time             disbursed_time  \\\n",
              "0      PKR       247.0  2014-01-01 06:12:39+00:00  2013-12-17 08:00:00+00:00   \n",
              "\n",
              "                 funded_time  term_in_months  lender_count tags  \\\n",
              "0  2014-01-02 10:06:32+00:00            12.0            12  NaN   \n",
              "\n",
              "  borrower_genders repayment_interval        date  \n",
              "0           female          irregular  2014-01-01  "
            ],
            "text/html": [
              "\n",
              "  <div id=\"df-43234640-0b8a-471c-816c-7a6ef8f12319\" class=\"colab-df-container\">\n",
              "    <div>\n",
              "<style scoped>\n",
              "    .dataframe tbody tr th:only-of-type {\n",
              "        vertical-align: middle;\n",
              "    }\n",
              "\n",
              "    .dataframe tbody tr th {\n",
              "        vertical-align: top;\n",
              "    }\n",
              "\n",
              "    .dataframe thead th {\n",
              "        text-align: right;\n",
              "    }\n",
              "</style>\n",
              "<table border=\"1\" class=\"dataframe\">\n",
              "  <thead>\n",
              "    <tr style=\"text-align: right;\">\n",
              "      <th></th>\n",
              "      <th>id</th>\n",
              "      <th>funded_amount</th>\n",
              "      <th>loan_amount</th>\n",
              "      <th>activity</th>\n",
              "      <th>sector</th>\n",
              "      <th>use</th>\n",
              "      <th>country_code</th>\n",
              "      <th>country</th>\n",
              "      <th>region</th>\n",
              "      <th>currency</th>\n",
              "      <th>partner_id</th>\n",
              "      <th>posted_time</th>\n",
              "      <th>disbursed_time</th>\n",
              "      <th>funded_time</th>\n",
              "      <th>term_in_months</th>\n",
              "      <th>lender_count</th>\n",
              "      <th>tags</th>\n",
              "      <th>borrower_genders</th>\n",
              "      <th>repayment_interval</th>\n",
              "      <th>date</th>\n",
              "    </tr>\n",
              "  </thead>\n",
              "  <tbody>\n",
              "    <tr>\n",
              "      <th>0</th>\n",
              "      <td>653051</td>\n",
              "      <td>300.0</td>\n",
              "      <td>300.0</td>\n",
              "      <td>Fruits &amp; Vegetables</td>\n",
              "      <td>Food</td>\n",
              "      <td>To buy seasonal, fresh fruits to sell.</td>\n",
              "      <td>PK</td>\n",
              "      <td>Pakistan</td>\n",
              "      <td>Lahore</td>\n",
              "      <td>PKR</td>\n",
              "      <td>247.0</td>\n",
              "      <td>2014-01-01 06:12:39+00:00</td>\n",
              "      <td>2013-12-17 08:00:00+00:00</td>\n",
              "      <td>2014-01-02 10:06:32+00:00</td>\n",
              "      <td>12.0</td>\n",
              "      <td>12</td>\n",
              "      <td>NaN</td>\n",
              "      <td>female</td>\n",
              "      <td>irregular</td>\n",
              "      <td>2014-01-01</td>\n",
              "    </tr>\n",
              "  </tbody>\n",
              "</table>\n",
              "</div>\n",
              "    <div class=\"colab-df-buttons\">\n",
              "\n",
              "  <div class=\"colab-df-container\">\n",
              "    <button class=\"colab-df-convert\" onclick=\"convertToInteractive('df-43234640-0b8a-471c-816c-7a6ef8f12319')\"\n",
              "            title=\"Convert this dataframe to an interactive table.\"\n",
              "            style=\"display:none;\">\n",
              "\n",
              "  <svg xmlns=\"http://www.w3.org/2000/svg\" height=\"24px\" viewBox=\"0 -960 960 960\">\n",
              "    <path d=\"M120-120v-720h720v720H120Zm60-500h600v-160H180v160Zm220 220h160v-160H400v160Zm0 220h160v-160H400v160ZM180-400h160v-160H180v160Zm440 0h160v-160H620v160ZM180-180h160v-160H180v160Zm440 0h160v-160H620v160Z\"/>\n",
              "  </svg>\n",
              "    </button>\n",
              "\n",
              "  <style>\n",
              "    .colab-df-container {\n",
              "      display:flex;\n",
              "      gap: 12px;\n",
              "    }\n",
              "\n",
              "    .colab-df-convert {\n",
              "      background-color: #E8F0FE;\n",
              "      border: none;\n",
              "      border-radius: 50%;\n",
              "      cursor: pointer;\n",
              "      display: none;\n",
              "      fill: #1967D2;\n",
              "      height: 32px;\n",
              "      padding: 0 0 0 0;\n",
              "      width: 32px;\n",
              "    }\n",
              "\n",
              "    .colab-df-convert:hover {\n",
              "      background-color: #E2EBFA;\n",
              "      box-shadow: 0px 1px 2px rgba(60, 64, 67, 0.3), 0px 1px 3px 1px rgba(60, 64, 67, 0.15);\n",
              "      fill: #174EA6;\n",
              "    }\n",
              "\n",
              "    .colab-df-buttons div {\n",
              "      margin-bottom: 4px;\n",
              "    }\n",
              "\n",
              "    [theme=dark] .colab-df-convert {\n",
              "      background-color: #3B4455;\n",
              "      fill: #D2E3FC;\n",
              "    }\n",
              "\n",
              "    [theme=dark] .colab-df-convert:hover {\n",
              "      background-color: #434B5C;\n",
              "      box-shadow: 0px 1px 3px 1px rgba(0, 0, 0, 0.15);\n",
              "      filter: drop-shadow(0px 1px 2px rgba(0, 0, 0, 0.3));\n",
              "      fill: #FFFFFF;\n",
              "    }\n",
              "  </style>\n",
              "\n",
              "    <script>\n",
              "      const buttonEl =\n",
              "        document.querySelector('#df-43234640-0b8a-471c-816c-7a6ef8f12319 button.colab-df-convert');\n",
              "      buttonEl.style.display =\n",
              "        google.colab.kernel.accessAllowed ? 'block' : 'none';\n",
              "\n",
              "      async function convertToInteractive(key) {\n",
              "        const element = document.querySelector('#df-43234640-0b8a-471c-816c-7a6ef8f12319');\n",
              "        const dataTable =\n",
              "          await google.colab.kernel.invokeFunction('convertToInteractive',\n",
              "                                                    [key], {});\n",
              "        if (!dataTable) return;\n",
              "\n",
              "        const docLinkHtml = 'Like what you see? Visit the ' +\n",
              "          '<a target=\"_blank\" href=https://colab.research.google.com/notebooks/data_table.ipynb>data table notebook</a>'\n",
              "          + ' to learn more about interactive tables.';\n",
              "        element.innerHTML = '';\n",
              "        dataTable['output_type'] = 'display_data';\n",
              "        await google.colab.output.renderOutput(dataTable, element);\n",
              "        const docLink = document.createElement('div');\n",
              "        docLink.innerHTML = docLinkHtml;\n",
              "        element.appendChild(docLink);\n",
              "      }\n",
              "    </script>\n",
              "  </div>\n",
              "\n",
              "    </div>\n",
              "  </div>\n"
            ],
            "application/vnd.google.colaboratory.intrinsic+json": {
              "type": "dataframe",
              "variable_name": "df_kiva_loans"
            }
          },
          "metadata": {},
          "execution_count": 105
        }
      ]
    },
    {
      "cell_type": "code",
      "source": [
        "df_kiva_loans['loan_amount'].max()"
      ],
      "metadata": {
        "colab": {
          "base_uri": "https://localhost:8080/"
        },
        "id": "g32jybfzZcoP",
        "outputId": "03519fd9-2010-449e-8e5a-c46aec4dd4a0"
      },
      "execution_count": null,
      "outputs": [
        {
          "output_type": "execute_result",
          "data": {
            "text/plain": [
              "100000.0"
            ]
          },
          "metadata": {},
          "execution_count": 36
        }
      ]
    },
    {
      "cell_type": "code",
      "source": [
        "df_mpi.head(1)"
      ],
      "metadata": {
        "colab": {
          "base_uri": "https://localhost:8080/",
          "height": 81
        },
        "id": "z1RRZVk0Xa7n",
        "outputId": "a842b245-1b4e-4a8e-f337-591203634867"
      },
      "execution_count": null,
      "outputs": [
        {
          "output_type": "execute_result",
          "data": {
            "text/plain": [
              "              LocationName  ISO      country      region world_region    MPI  \\\n",
              "0  Badakhshan, Afghanistan  AFG  Afghanistan  Badakhshan   South Asia  0.387   \n",
              "\n",
              "                               geo        lat        lon  \n",
              "0  (36.7347725, 70.81199529999999)  36.734772  70.811995  "
            ],
            "text/html": [
              "\n",
              "  <div id=\"df-5678e543-e77a-49d6-bce1-05753c638f59\" class=\"colab-df-container\">\n",
              "    <div>\n",
              "<style scoped>\n",
              "    .dataframe tbody tr th:only-of-type {\n",
              "        vertical-align: middle;\n",
              "    }\n",
              "\n",
              "    .dataframe tbody tr th {\n",
              "        vertical-align: top;\n",
              "    }\n",
              "\n",
              "    .dataframe thead th {\n",
              "        text-align: right;\n",
              "    }\n",
              "</style>\n",
              "<table border=\"1\" class=\"dataframe\">\n",
              "  <thead>\n",
              "    <tr style=\"text-align: right;\">\n",
              "      <th></th>\n",
              "      <th>LocationName</th>\n",
              "      <th>ISO</th>\n",
              "      <th>country</th>\n",
              "      <th>region</th>\n",
              "      <th>world_region</th>\n",
              "      <th>MPI</th>\n",
              "      <th>geo</th>\n",
              "      <th>lat</th>\n",
              "      <th>lon</th>\n",
              "    </tr>\n",
              "  </thead>\n",
              "  <tbody>\n",
              "    <tr>\n",
              "      <th>0</th>\n",
              "      <td>Badakhshan, Afghanistan</td>\n",
              "      <td>AFG</td>\n",
              "      <td>Afghanistan</td>\n",
              "      <td>Badakhshan</td>\n",
              "      <td>South Asia</td>\n",
              "      <td>0.387</td>\n",
              "      <td>(36.7347725, 70.81199529999999)</td>\n",
              "      <td>36.734772</td>\n",
              "      <td>70.811995</td>\n",
              "    </tr>\n",
              "  </tbody>\n",
              "</table>\n",
              "</div>\n",
              "    <div class=\"colab-df-buttons\">\n",
              "\n",
              "  <div class=\"colab-df-container\">\n",
              "    <button class=\"colab-df-convert\" onclick=\"convertToInteractive('df-5678e543-e77a-49d6-bce1-05753c638f59')\"\n",
              "            title=\"Convert this dataframe to an interactive table.\"\n",
              "            style=\"display:none;\">\n",
              "\n",
              "  <svg xmlns=\"http://www.w3.org/2000/svg\" height=\"24px\" viewBox=\"0 -960 960 960\">\n",
              "    <path d=\"M120-120v-720h720v720H120Zm60-500h600v-160H180v160Zm220 220h160v-160H400v160Zm0 220h160v-160H400v160ZM180-400h160v-160H180v160Zm440 0h160v-160H620v160ZM180-180h160v-160H180v160Zm440 0h160v-160H620v160Z\"/>\n",
              "  </svg>\n",
              "    </button>\n",
              "\n",
              "  <style>\n",
              "    .colab-df-container {\n",
              "      display:flex;\n",
              "      gap: 12px;\n",
              "    }\n",
              "\n",
              "    .colab-df-convert {\n",
              "      background-color: #E8F0FE;\n",
              "      border: none;\n",
              "      border-radius: 50%;\n",
              "      cursor: pointer;\n",
              "      display: none;\n",
              "      fill: #1967D2;\n",
              "      height: 32px;\n",
              "      padding: 0 0 0 0;\n",
              "      width: 32px;\n",
              "    }\n",
              "\n",
              "    .colab-df-convert:hover {\n",
              "      background-color: #E2EBFA;\n",
              "      box-shadow: 0px 1px 2px rgba(60, 64, 67, 0.3), 0px 1px 3px 1px rgba(60, 64, 67, 0.15);\n",
              "      fill: #174EA6;\n",
              "    }\n",
              "\n",
              "    .colab-df-buttons div {\n",
              "      margin-bottom: 4px;\n",
              "    }\n",
              "\n",
              "    [theme=dark] .colab-df-convert {\n",
              "      background-color: #3B4455;\n",
              "      fill: #D2E3FC;\n",
              "    }\n",
              "\n",
              "    [theme=dark] .colab-df-convert:hover {\n",
              "      background-color: #434B5C;\n",
              "      box-shadow: 0px 1px 3px 1px rgba(0, 0, 0, 0.15);\n",
              "      filter: drop-shadow(0px 1px 2px rgba(0, 0, 0, 0.3));\n",
              "      fill: #FFFFFF;\n",
              "    }\n",
              "  </style>\n",
              "\n",
              "    <script>\n",
              "      const buttonEl =\n",
              "        document.querySelector('#df-5678e543-e77a-49d6-bce1-05753c638f59 button.colab-df-convert');\n",
              "      buttonEl.style.display =\n",
              "        google.colab.kernel.accessAllowed ? 'block' : 'none';\n",
              "\n",
              "      async function convertToInteractive(key) {\n",
              "        const element = document.querySelector('#df-5678e543-e77a-49d6-bce1-05753c638f59');\n",
              "        const dataTable =\n",
              "          await google.colab.kernel.invokeFunction('convertToInteractive',\n",
              "                                                    [key], {});\n",
              "        if (!dataTable) return;\n",
              "\n",
              "        const docLinkHtml = 'Like what you see? Visit the ' +\n",
              "          '<a target=\"_blank\" href=https://colab.research.google.com/notebooks/data_table.ipynb>data table notebook</a>'\n",
              "          + ' to learn more about interactive tables.';\n",
              "        element.innerHTML = '';\n",
              "        dataTable['output_type'] = 'display_data';\n",
              "        await google.colab.output.renderOutput(dataTable, element);\n",
              "        const docLink = document.createElement('div');\n",
              "        docLink.innerHTML = docLinkHtml;\n",
              "        element.appendChild(docLink);\n",
              "      }\n",
              "    </script>\n",
              "  </div>\n",
              "\n",
              "    </div>\n",
              "  </div>\n"
            ],
            "application/vnd.google.colaboratory.intrinsic+json": {
              "type": "dataframe",
              "variable_name": "df_mpi",
              "summary": "{\n  \"name\": \"df_mpi\",\n  \"rows\": 2772,\n  \"fields\": [\n    {\n      \"column\": \"LocationName\",\n      \"properties\": {\n        \"dtype\": \"category\",\n        \"num_unique_values\": 984,\n        \"samples\": [\n          \"Mwanza, Malawi\",\n          \"Battambang & Pailin, Cambodia\",\n          \"Cusco, Peru\"\n        ],\n        \"semantic_type\": \"\",\n        \"description\": \"\"\n      }\n    },\n    {\n      \"column\": \"ISO\",\n      \"properties\": {\n        \"dtype\": \"category\",\n        \"num_unique_values\": 102,\n        \"samples\": [\n          \"GIN\",\n          \"NPL\",\n          \"MWI\"\n        ],\n        \"semantic_type\": \"\",\n        \"description\": \"\"\n      }\n    },\n    {\n      \"column\": \"country\",\n      \"properties\": {\n        \"dtype\": \"category\",\n        \"num_unique_values\": 102,\n        \"samples\": [\n          \"Guinea\",\n          \"Nepal\",\n          \"Malawi\"\n        ],\n        \"semantic_type\": \"\",\n        \"description\": \"\"\n      }\n    },\n    {\n      \"column\": \"region\",\n      \"properties\": {\n        \"dtype\": \"category\",\n        \"num_unique_values\": 928,\n        \"samples\": [\n          \"Center\",\n          \"Masaya\",\n          \"Takhar\"\n        ],\n        \"semantic_type\": \"\",\n        \"description\": \"\"\n      }\n    },\n    {\n      \"column\": \"world_region\",\n      \"properties\": {\n        \"dtype\": \"category\",\n        \"num_unique_values\": 6,\n        \"samples\": [\n          \"South Asia\",\n          \"Europe and Central Asia\",\n          \"Arab States\"\n        ],\n        \"semantic_type\": \"\",\n        \"description\": \"\"\n      }\n    },\n    {\n      \"column\": \"MPI\",\n      \"properties\": {\n        \"dtype\": \"number\",\n        \"std\": 0.18362099289310072,\n        \"min\": 0.0,\n        \"max\": 0.7440000000000001,\n        \"num_unique_values\": 452,\n        \"samples\": [\n          0.407,\n          0.4539999999999999,\n          0.525\n        ],\n        \"semantic_type\": \"\",\n        \"description\": \"\"\n      }\n    },\n    {\n      \"column\": \"geo\",\n      \"properties\": {\n        \"dtype\": \"category\",\n        \"num_unique_values\": 881,\n        \"samples\": [\n          \"(35.4655761, 44.38039209999999)\",\n          \"(13.5336211, -14.7695962)\",\n          \"(16.9459346, 97.9592863)\"\n        ],\n        \"semantic_type\": \"\",\n        \"description\": \"\"\n      }\n    },\n    {\n      \"column\": \"lat\",\n      \"properties\": {\n        \"dtype\": \"number\",\n        \"std\": 16.484530534971956,\n        \"min\": -34.9478961,\n        \"max\": 49.26474810000001,\n        \"num_unique_values\": 880,\n        \"samples\": [\n          -8.657381899999999,\n          10.3785237,\n          38.5597722\n        ],\n        \"semantic_type\": \"\",\n        \"description\": \"\"\n      }\n    },\n    {\n      \"column\": \"lon\",\n      \"properties\": {\n        \"dtype\": \"number\",\n        \"std\": 61.234565607475574,\n        \"min\": -122.7471312,\n        \"max\": 138.58128440000002,\n        \"num_unique_values\": 787,\n        \"samples\": [\n          2.1253854,\n          -2.302446,\n          36.954107\n        ],\n        \"semantic_type\": \"\",\n        \"description\": \"\"\n      }\n    }\n  ]\n}"
            }
          },
          "metadata": {},
          "execution_count": 37
        }
      ]
    },
    {
      "cell_type": "markdown",
      "metadata": {
        "id": "HK4z5UznSaaT"
      },
      "source": [
        "_________"
      ]
    },
    {
      "cell_type": "markdown",
      "source": [
        "# Самостоятельная работа 4.05"
      ],
      "metadata": {
        "id": "lCDwfOL4Ndma"
      }
    },
    {
      "cell_type": "markdown",
      "metadata": {
        "id": "RKHs54nYRd1E"
      },
      "source": [
        "### Задание 1. Проанализируйте разброс показателя **funded_amount** путём построения визуализации"
      ]
    },
    {
      "cell_type": "markdown",
      "metadata": {
        "id": "F4GrawS8MKez"
      },
      "source": [
        "Иcпользуйте метод `histplot` библиотеки `seaborn`."
      ]
    },
    {
      "cell_type": "code",
      "source": [
        "plt.figure(figsize=(10, 6))\n",
        "sns.histplot(df_kiva_loans['funded_amount'], kde=True)\n",
        "plt.title('Распределение funded_amount')\n",
        "plt.xlabel('Сумма финансирования')\n",
        "plt.ylabel('Частота')\n",
        "plt.show()"
      ],
      "metadata": {
        "id": "yffAj5qIGRF8",
        "colab": {
          "base_uri": "https://localhost:8080/",
          "height": 557
        },
        "outputId": "7eab953e-cc99-4232-9d5f-659d57e642c5"
      },
      "execution_count": null,
      "outputs": [
        {
          "output_type": "display_data",
          "data": {
            "text/plain": [
              "<Figure size 1000x600 with 1 Axes>"
            ],
            "image/png": "[encoded data removed]"
          },
          "metadata": {}
        }
      ]
    },
    {
      "cell_type": "markdown",
      "metadata": {
        "id": "iZlUF7fNSBCG"
      },
      "source": [
        "### Задание 2. Изучите несколько займов с большими суммами (> 20 000). Что можно сказать о назначении этих заявок? В каких странах они оформлены?"
      ]
    },
    {
      "cell_type": "markdown",
      "metadata": {
        "id": "kSxJGKR5Mx_O"
      },
      "source": [
        "Подсказка: для того чтобы выделить объекты с большими суммами, можно воспользоваться командой `df_kiva_loans[df_kiva_loans.loan_amount > 20000]`."
      ]
    },
    {
      "cell_type": "code",
      "source": [
        "df_large_loans = df_kiva_loans[df_kiva_loans.loan_amount > 20000]\n",
        "df_large_loans.head()"
      ],
      "metadata": {
        "id": "WttqHsLsGU2S",
        "colab": {
          "base_uri": "https://localhost:8080/",
          "height": 608
        },
        "outputId": "29a04897-0e15-40b1-ed0b-3effd65b0d3b"
      },
      "execution_count": null,
      "outputs": [
        {
          "output_type": "execute_result",
          "data": {
            "text/plain": [
              "           id  funded_amount  loan_amount                   activity  \\\n",
              "34196  687045        50000.0      50000.0  Renewable Energy Products   \n",
              "38725  691328        25000.0      25000.0      Construction Supplies   \n",
              "43182  695450        50000.0      50000.0  Renewable Energy Products   \n",
              "53634  706146        50000.0      50000.0  Renewable Energy Products   \n",
              "70499  722883       100000.0     100000.0                Agriculture   \n",
              "\n",
              "             sector                                                use  \\\n",
              "34196        Retail  to buy and sell Barefoot Power's Solar Lightin...   \n",
              "38725  Construction  To supply construction materials for a vocatio...   \n",
              "43182        Retail  To buy and sell Barefoot Power's solar lightin...   \n",
              "53634        Retail     To buy and sell Barefoot Power solar lighting.   \n",
              "70499   Agriculture  create more than 300 jobs for women and farmer...   \n",
              "\n",
              "      country_code country     region currency  partner_id  \\\n",
              "34196           PE    Peru   Arequipa      USD       212.0   \n",
              "38725           RW  Rwanda     Kigali      USD       319.0   \n",
              "43182           KE   Kenya    Nairobi      USD       212.0   \n",
              "53634           UG  Uganda    Kampala      USD       212.0   \n",
              "70499           HT   Haiti  Les Cayes      USD       315.0   \n",
              "\n",
              "                     posted_time             disbursed_time  \\\n",
              "34196  2014-03-21 05:25:02+00:00  2014-05-21 07:00:00+00:00   \n",
              "38725  2014-03-31 09:43:06+00:00  2014-03-26 07:00:00+00:00   \n",
              "43182  2014-04-09 08:25:02+00:00  2014-06-09 07:00:00+00:00   \n",
              "53634  2014-05-06 09:25:03+00:00  2014-07-06 07:00:00+00:00   \n",
              "70499  2014-06-10 19:25:02+00:00  2014-09-08 07:00:00+00:00   \n",
              "\n",
              "                     funded_time  term_in_months  lender_count  \\\n",
              "34196  2014-04-18 06:32:55+00:00            14.0          1446   \n",
              "38725  2014-04-16 22:14:29+00:00             7.0           821   \n",
              "43182  2014-04-19 19:27:30+00:00            16.0          1491   \n",
              "53634  2014-05-18 15:31:08+00:00            14.0          1581   \n",
              "70499  2014-06-19 20:21:04+00:00            75.0          2986   \n",
              "\n",
              "                                                    tags borrower_genders  \\\n",
              "34196  user_favorite, user_favorite, #Eco-friendly, #...             male   \n",
              "38725  user_favorite, #Repeat Borrower, #Unique, #Job...             male   \n",
              "43182  user_favorite, user_favorite, user_favorite, u...             male   \n",
              "53634  #Eco-friendly, #Biz Durable Asset, #Post-disbu...           female   \n",
              "70499  user_favorite, user_favorite, user_favorite, u...           female   \n",
              "\n",
              "      repayment_interval        date  \n",
              "34196          irregular  2014-03-21  \n",
              "38725          irregular  2014-03-31  \n",
              "43182             bullet  2014-04-09  \n",
              "53634             bullet  2014-05-06  \n",
              "70499          irregular  2014-06-10  "
            ],
            "text/html": [
              "\n",
              "  <div id=\"df-c80f4ea0-5a80-413e-abae-856ba13ea840\" class=\"colab-df-container\">\n",
              "    <div>\n",
              "<style scoped>\n",
              "    .dataframe tbody tr th:only-of-type {\n",
              "        vertical-align: middle;\n",
              "    }\n",
              "\n",
              "    .dataframe tbody tr th {\n",
              "        vertical-align: top;\n",
              "    }\n",
              "\n",
              "    .dataframe thead th {\n",
              "        text-align: right;\n",
              "    }\n",
              "</style>\n",
              "<table border=\"1\" class=\"dataframe\">\n",
              "  <thead>\n",
              "    <tr style=\"text-align: right;\">\n",
              "      <th></th>\n",
              "      <th>id</th>\n",
              "      <th>funded_amount</th>\n",
              "      <th>loan_amount</th>\n",
              "      <th>activity</th>\n",
              "      <th>sector</th>\n",
              "      <th>use</th>\n",
              "      <th>country_code</th>\n",
              "      <th>country</th>\n",
              "      <th>region</th>\n",
              "      <th>currency</th>\n",
              "      <th>partner_id</th>\n",
              "      <th>posted_time</th>\n",
              "      <th>disbursed_time</th>\n",
              "      <th>funded_time</th>\n",
              "      <th>term_in_months</th>\n",
              "      <th>lender_count</th>\n",
              "      <th>tags</th>\n",
              "      <th>borrower_genders</th>\n",
              "      <th>repayment_interval</th>\n",
              "      <th>date</th>\n",
              "    </tr>\n",
              "  </thead>\n",
              "  <tbody>\n",
              "    <tr>\n",
              "      <th>34196</th>\n",
              "      <td>687045</td>\n",
              "      <td>50000.0</td>\n",
              "      <td>50000.0</td>\n",
              "      <td>Renewable Energy Products</td>\n",
              "      <td>Retail</td>\n",
              "      <td>to buy and sell Barefoot Power's Solar Lightin...</td>\n",
              "      <td>PE</td>\n",
              "      <td>Peru</td>\n",
              "      <td>Arequipa</td>\n",
              "      <td>USD</td>\n",
              "      <td>212.0</td>\n",
              "      <td>2014-03-21 05:25:02+00:00</td>\n",
              "      <td>2014-05-21 07:00:00+00:00</td>\n",
              "      <td>2014-04-18 06:32:55+00:00</td>\n",
              "      <td>14.0</td>\n",
              "      <td>1446</td>\n",
              "      <td>user_favorite, user_favorite, #Eco-friendly, #...</td>\n",
              "      <td>male</td>\n",
              "      <td>irregular</td>\n",
              "      <td>2014-03-21</td>\n",
              "    </tr>\n",
              "    <tr>\n",
              "      <th>38725</th>\n",
              "      <td>691328</td>\n",
              "      <td>25000.0</td>\n",
              "      <td>25000.0</td>\n",
              "      <td>Construction Supplies</td>\n",
              "      <td>Construction</td>\n",
              "      <td>To supply construction materials for a vocatio...</td>\n",
              "      <td>RW</td>\n",
              "      <td>Rwanda</td>\n",
              "      <td>Kigali</td>\n",
              "      <td>USD</td>\n",
              "      <td>319.0</td>\n",
              "      <td>2014-03-31 09:43:06+00:00</td>\n",
              "      <td>2014-03-26 07:00:00+00:00</td>\n",
              "      <td>2014-04-16 22:14:29+00:00</td>\n",
              "      <td>7.0</td>\n",
              "      <td>821</td>\n",
              "      <td>user_favorite, #Repeat Borrower, #Unique, #Job...</td>\n",
              "      <td>male</td>\n",
              "      <td>irregular</td>\n",
              "      <td>2014-03-31</td>\n",
              "    </tr>\n",
              "    <tr>\n",
              "      <th>43182</th>\n",
              "      <td>695450</td>\n",
              "      <td>50000.0</td>\n",
              "      <td>50000.0</td>\n",
              "      <td>Renewable Energy Products</td>\n",
              "      <td>Retail</td>\n",
              "      <td>To buy and sell Barefoot Power's solar lightin...</td>\n",
              "      <td>KE</td>\n",
              "      <td>Kenya</td>\n",
              "      <td>Nairobi</td>\n",
              "      <td>USD</td>\n",
              "      <td>212.0</td>\n",
              "      <td>2014-04-09 08:25:02+00:00</td>\n",
              "      <td>2014-06-09 07:00:00+00:00</td>\n",
              "      <td>2014-04-19 19:27:30+00:00</td>\n",
              "      <td>16.0</td>\n",
              "      <td>1491</td>\n",
              "      <td>user_favorite, user_favorite, user_favorite, u...</td>\n",
              "      <td>male</td>\n",
              "      <td>bullet</td>\n",
              "      <td>2014-04-09</td>\n",
              "    </tr>\n",
              "    <tr>\n",
              "      <th>53634</th>\n",
              "      <td>706146</td>\n",
              "      <td>50000.0</td>\n",
              "      <td>50000.0</td>\n",
              "      <td>Renewable Energy Products</td>\n",
              "      <td>Retail</td>\n",
              "      <td>To buy and sell Barefoot Power solar lighting.</td>\n",
              "      <td>UG</td>\n",
              "      <td>Uganda</td>\n",
              "      <td>Kampala</td>\n",
              "      <td>USD</td>\n",
              "      <td>212.0</td>\n",
              "      <td>2014-05-06 09:25:03+00:00</td>\n",
              "      <td>2014-07-06 07:00:00+00:00</td>\n",
              "      <td>2014-05-18 15:31:08+00:00</td>\n",
              "      <td>14.0</td>\n",
              "      <td>1581</td>\n",
              "      <td>#Eco-friendly, #Biz Durable Asset, #Post-disbu...</td>\n",
              "      <td>female</td>\n",
              "      <td>bullet</td>\n",
              "      <td>2014-05-06</td>\n",
              "    </tr>\n",
              "    <tr>\n",
              "      <th>70499</th>\n",
              "      <td>722883</td>\n",
              "      <td>100000.0</td>\n",
              "      <td>100000.0</td>\n",
              "      <td>Agriculture</td>\n",
              "      <td>Agriculture</td>\n",
              "      <td>create more than 300 jobs for women and farmer...</td>\n",
              "      <td>HT</td>\n",
              "      <td>Haiti</td>\n",
              "      <td>Les Cayes</td>\n",
              "      <td>USD</td>\n",
              "      <td>315.0</td>\n",
              "      <td>2014-06-10 19:25:02+00:00</td>\n",
              "      <td>2014-09-08 07:00:00+00:00</td>\n",
              "      <td>2014-06-19 20:21:04+00:00</td>\n",
              "      <td>75.0</td>\n",
              "      <td>2986</td>\n",
              "      <td>user_favorite, user_favorite, user_favorite, u...</td>\n",
              "      <td>female</td>\n",
              "      <td>irregular</td>\n",
              "      <td>2014-06-10</td>\n",
              "    </tr>\n",
              "  </tbody>\n",
              "</table>\n",
              "</div>\n",
              "    <div class=\"colab-df-buttons\">\n",
              "\n",
              "  <div class=\"colab-df-container\">\n",
              "    <button class=\"colab-df-convert\" onclick=\"convertToInteractive('df-c80f4ea0-5a80-413e-abae-856ba13ea840')\"\n",
              "            title=\"Convert this dataframe to an interactive table.\"\n",
              "            style=\"display:none;\">\n",
              "\n",
              "  <svg xmlns=\"http://www.w3.org/2000/svg\" height=\"24px\" viewBox=\"0 -960 960 960\">\n",
              "    <path d=\"M120-120v-720h720v720H120Zm60-500h600v-160H180v160Zm220 220h160v-160H400v160Zm0 220h160v-160H400v160ZM180-400h160v-160H180v160Zm440 0h160v-160H620v160ZM180-180h160v-160H180v160Zm440 0h160v-160H620v160Z\"/>\n",
              "  </svg>\n",
              "    </button>\n",
              "\n",
              "  <style>\n",
              "    .colab-df-container {\n",
              "      display:flex;\n",
              "      gap: 12px;\n",
              "    }\n",
              "\n",
              "    .colab-df-convert {\n",
              "      background-color: #E8F0FE;\n",
              "      border: none;\n",
              "      border-radius: 50%;\n",
              "      cursor: pointer;\n",
              "      display: none;\n",
              "      fill: #1967D2;\n",
              "      height: 32px;\n",
              "      padding: 0 0 0 0;\n",
              "      width: 32px;\n",
              "    }\n",
              "\n",
              "    .colab-df-convert:hover {\n",
              "      background-color: #E2EBFA;\n",
              "      box-shadow: 0px 1px 2px rgba(60, 64, 67, 0.3), 0px 1px 3px 1px rgba(60, 64, 67, 0.15);\n",
              "      fill: #174EA6;\n",
              "    }\n",
              "\n",
              "    .colab-df-buttons div {\n",
              "      margin-bottom: 4px;\n",
              "    }\n",
              "\n",
              "    [theme=dark] .colab-df-convert {\n",
              "      background-color: #3B4455;\n",
              "      fill: #D2E3FC;\n",
              "    }\n",
              "\n",
              "    [theme=dark] .colab-df-convert:hover {\n",
              "      background-color: #434B5C;\n",
              "      box-shadow: 0px 1px 3px 1px rgba(0, 0, 0, 0.15);\n",
              "      filter: drop-shadow(0px 1px 2px rgba(0, 0, 0, 0.3));\n",
              "      fill: #FFFFFF;\n",
              "    }\n",
              "  </style>\n",
              "\n",
              "    <script>\n",
              "      const buttonEl =\n",
              "        document.querySelector('#df-c80f4ea0-5a80-413e-abae-856ba13ea840 button.colab-df-convert');\n",
              "      buttonEl.style.display =\n",
              "        google.colab.kernel.accessAllowed ? 'block' : 'none';\n",
              "\n",
              "      async function convertToInteractive(key) {\n",
              "        const element = document.querySelector('#df-c80f4ea0-5a80-413e-abae-856ba13ea840');\n",
              "        const dataTable =\n",
              "          await google.colab.kernel.invokeFunction('convertToInteractive',\n",
              "                                                    [key], {});\n",
              "        if (!dataTable) return;\n",
              "\n",
              "        const docLinkHtml = 'Like what you see? Visit the ' +\n",
              "          '<a target=\"_blank\" href=https://colab.research.google.com/notebooks/data_table.ipynb>data table notebook</a>'\n",
              "          + ' to learn more about interactive tables.';\n",
              "        element.innerHTML = '';\n",
              "        dataTable['output_type'] = 'display_data';\n",
              "        await google.colab.output.renderOutput(dataTable, element);\n",
              "        const docLink = document.createElement('div');\n",
              "        docLink.innerHTML = docLinkHtml;\n",
              "        element.appendChild(docLink);\n",
              "      }\n",
              "    </script>\n",
              "  </div>\n",
              "\n",
              "\n",
              "<div id=\"df-0c95064d-ae52-46f8-98d8-d7d41162501d\">\n",
              "  <button class=\"colab-df-quickchart\" onclick=\"quickchart('df-0c95064d-ae52-46f8-98d8-d7d41162501d')\"\n",
              "            title=\"Suggest charts\"\n",
              "            style=\"display:none;\">\n",
              "\n",
              "<svg xmlns=\"http://www.w3.org/2000/svg\" height=\"24px\"viewBox=\"0 0 24 24\"\n",
              "     width=\"24px\">\n",
              "    <g>\n",
              "        <path d=\"M19 3H5c-1.1 0-2 .9-2 2v14c0 1.1.9 2 2 2h14c1.1 0 2-.9 2-2V5c0-1.1-.9-2-2-2zM9 17H7v-7h2v7zm4 0h-2V7h2v10zm4 0h-2v-4h2v4z\"/>\n",
              "    </g>\n",
              "</svg>\n",
              "  </button>\n",
              "\n",
              "<style>\n",
              "  .colab-df-quickchart {\n",
              "      --bg-color: #E8F0FE;\n",
              "      --fill-color: #1967D2;\n",
              "      --hover-bg-color: #E2EBFA;\n",
              "      --hover-fill-color: #174EA6;\n",
              "      --disabled-fill-color: #AAA;\n",
              "      --disabled-bg-color: #DDD;\n",
              "  }\n",
              "\n",
              "  [theme=dark] .colab-df-quickchart {\n",
              "      --bg-color: #3B4455;\n",
              "      --fill-color: #D2E3FC;\n",
              "      --hover-bg-color: #434B5C;\n",
              "      --hover-fill-color: #FFFFFF;\n",
              "      --disabled-bg-color: #3B4455;\n",
              "      --disabled-fill-color: #666;\n",
              "  }\n",
              "\n",
              "  .colab-df-quickchart {\n",
              "    background-color: var(--bg-color);\n",
              "    border: none;\n",
              "    border-radius: 50%;\n",
              "    cursor: pointer;\n",
              "    display: none;\n",
              "    fill: var(--fill-color);\n",
              "    height: 32px;\n",
              "    padding: 0;\n",
              "    width: 32px;\n",
              "  }\n",
              "\n",
              "  .colab-df-quickchart:hover {\n",
              "    background-color: var(--hover-bg-color);\n",
              "    box-shadow: 0 1px 2px rgba(60, 64, 67, 0.3), 0 1px 3px 1px rgba(60, 64, 67, 0.15);\n",
              "    fill: var(--button-hover-fill-color);\n",
              "  }\n",
              "\n",
              "  .colab-df-quickchart-complete:disabled,\n",
              "  .colab-df-quickchart-complete:disabled:hover {\n",
              "    background-color: var(--disabled-bg-color);\n",
              "    fill: var(--disabled-fill-color);\n",
              "    box-shadow: none;\n",
              "  }\n",
              "\n",
              "  .colab-df-spinner {\n",
              "    border: 2px solid var(--fill-color);\n",
              "    border-color: transparent;\n",
              "    border-bottom-color: var(--fill-color);\n",
              "    animation:\n",
              "      spin 1s steps(1) infinite;\n",
              "  }\n",
              "\n",
              "  @keyframes spin {\n",
              "    0% {\n",
              "      border-color: transparent;\n",
              "      border-bottom-color: var(--fill-color);\n",
              "      border-left-color: var(--fill-color);\n",
              "    }\n",
              "    20% {\n",
              "      border-color: transparent;\n",
              "      border-left-color: var(--fill-color);\n",
              "      border-top-color: var(--fill-color);\n",
              "    }\n",
              "    30% {\n",
              "      border-color: transparent;\n",
              "      border-left-color: var(--fill-color);\n",
              "      border-top-color: var(--fill-color);\n",
              "      border-right-color: var(--fill-color);\n",
              "    }\n",
              "    40% {\n",
              "      border-color: transparent;\n",
              "      border-right-color: var(--fill-color);\n",
              "      border-top-color: var(--fill-color);\n",
              "    }\n",
              "    60% {\n",
              "      border-color: transparent;\n",
              "      border-right-color: var(--fill-color);\n",
              "    }\n",
              "    80% {\n",
              "      border-color: transparent;\n",
              "      border-right-color: var(--fill-color);\n",
              "      border-bottom-color: var(--fill-color);\n",
              "    }\n",
              "    90% {\n",
              "      border-color: transparent;\n",
              "      border-bottom-color: var(--fill-color);\n",
              "    }\n",
              "  }\n",
              "</style>\n",
              "\n",
              "  <script>\n",
              "    async function quickchart(key) {\n",
              "      const quickchartButtonEl =\n",
              "        document.querySelector('#' + key + ' button');\n",
              "      quickchartButtonEl.disabled = true;  // To prevent multiple clicks.\n",
              "      quickchartButtonEl.classList.add('colab-df-spinner');\n",
              "      try {\n",
              "        const charts = await google.colab.kernel.invokeFunction(\n",
              "            'suggestCharts', [key], {});\n",
              "      } catch (error) {\n",
              "        console.error('Error during call to suggestCharts:', error);\n",
              "      }\n",
              "      quickchartButtonEl.classList.remove('colab-df-spinner');\n",
              "      quickchartButtonEl.classList.add('colab-df-quickchart-complete');\n",
              "    }\n",
              "    (() => {\n",
              "      let quickchartButtonEl =\n",
              "        document.querySelector('#df-0c95064d-ae52-46f8-98d8-d7d41162501d button');\n",
              "      quickchartButtonEl.style.display =\n",
              "        google.colab.kernel.accessAllowed ? 'block' : 'none';\n",
              "    })();\n",
              "  </script>\n",
              "</div>\n",
              "    </div>\n",
              "  </div>\n"
            ],
            "application/vnd.google.colaboratory.intrinsic+json": {
              "type": "dataframe",
              "variable_name": "df_large_loans",
              "repr_error": "0"
            }
          },
          "metadata": {},
          "execution_count": 112
        }
      ]
    },
    {
      "cell_type": "code",
      "source": [
        "countries_of_large_loans = df_large_loans['country'].tolist()\n",
        "country_counts = {}\n",
        "for country in countries_of_large_loans:\n",
        "    if country in country_counts:\n",
        "        country_counts[country] += 1\n",
        "    else:\n",
        "        country_counts[country] = 1\n",
        "for country, count in country_counts.items():\n",
        "    print(f\"{country}: {count}\")"
      ],
      "metadata": {
        "colab": {
          "base_uri": "https://localhost:8080/"
        },
        "id": "e8EFrIKpfrqb",
        "outputId": "1f15481a-3982-4e17-b201-14b2ab96fa31"
      },
      "execution_count": null,
      "outputs": [
        {
          "output_type": "stream",
          "name": "stdout",
          "text": [
            "Peru: 2\n",
            "Rwanda: 2\n",
            "Kenya: 4\n",
            "Uganda: 2\n",
            "Haiti: 2\n",
            "Mexico: 7\n",
            "Lao People's Democratic Republic: 2\n",
            "Mali: 1\n",
            "Chile: 2\n",
            "Cambodia: 1\n"
          ]
        }
      ]
    },
    {
      "cell_type": "markdown",
      "source": [
        "Страны где офромлены внушительные кредиты: Перу, Руанда, Кения, Уганда, Гаити, Мексика, Лаос, Мали, Чили, Камбоджа"
      ],
      "metadata": {
        "id": "ppoC8GaKveBg"
      }
    },
    {
      "cell_type": "markdown",
      "source": [
        "### Задание 3. Попробуйте найти связь между странами (макрорегионами), полом заемщика и суммой заявки. Сделайте выводы из этих данных?"
      ],
      "metadata": {
        "id": "rKipnXQJOKqE"
      }
    },
    {
      "cell_type": "code",
      "source": [
        "from sklearn.preprocessing import LabelEncoder\n",
        "label_encoder = LabelEncoder()\n",
        "df_temp = pd.DataFrame()\n",
        "df_temp['country_encoded'] = label_encoder.fit_transform(df_kiva_loans['country'])\n",
        "df_temp['gender_encoded'] = label_encoder.fit_transform(df_kiva_loans['borrower_genders'])\n",
        "df_temp['loan_amount'] = df_kiva_loans['loan_amount']\n",
        "cor_matrix = df_temp.corr()\n",
        "sns.heatmap(cor_matrix, cmap='BrBG', annot=True)\n",
        "plt.title('Матрица корреляций')\n",
        "plt.show()"
      ],
      "metadata": {
        "id": "igR4nWyTO3wp",
        "colab": {
          "base_uri": "https://localhost:8080/",
          "height": 446
        },
        "outputId": "9f7129c7-824d-41db-bd87-ab88273d9ba1"
      },
      "execution_count": null,
      "outputs": [
        {
          "output_type": "display_data",
          "data": {
            "text/plain": [
              "<Figure size 640x480 with 2 Axes>"
            ],
            "image/png": "[encoded data removed]"
          },
          "metadata": {}
        }
      ]
    },
    {
      "cell_type": "code",
      "source": [
        "female_count = df_kiva_loans[df_kiva_loans['borrower_genders'] == 'female'].shape[0]\n",
        "male_count = df_kiva_loans[df_kiva_loans['borrower_genders'] == 'male'].shape[0]\n",
        "print(female_count, male_count)"
      ],
      "metadata": {
        "colab": {
          "base_uri": "https://localhost:8080/"
        },
        "id": "bbcHtFEU0cA-",
        "outputId": "5356f03b-5602-4634-9ba9-3e5760dd6bee"
      },
      "execution_count": null,
      "outputs": [
        {
          "output_type": "stream",
          "name": "stdout",
          "text": [
            "426502 134710\n"
          ]
        }
      ]
    },
    {
      "cell_type": "markdown",
      "source": [
        "Женщины берут кредит чаще, но корреляция между размером кредита и полом низкая 0.11"
      ],
      "metadata": {
        "id": "2vUp9gO911ok"
      }
    },
    {
      "cell_type": "markdown",
      "source": [
        "### Задание 4. Изучите несколько займов с очень большими суммами. Что можно сказать о назначении этих заявок? В каких странах они оформлены? Каков гендерный состав заявителей?"
      ],
      "metadata": {
        "id": "Hrn7Qq_aOrNK"
      }
    },
    {
      "cell_type": "markdown",
      "source": [
        "Страны, где офромлены внушительные кредиты: Перу, Руанда, Кения, Уганда, Гаити, Мексика, Лаос, Мали, Чили, Камбоджа. Женщины берут кредит чаще, но корреляция между размером кредита и полом низкая - 0.11.\n",
        "В этих странах могут брать кредиты на следующие цели:\n",
        "\n",
        "1. **Малый бизнес и сельское хозяйство**: Начало или развитие собственного бизнеса.\n",
        "\n",
        "2. **Образование**: Оплата обучения для себя или детей.\n",
        "\n",
        "3. **Здравоохранение**: Оплата медицинских расходов.\n",
        "\n",
        "4. **Жилье**: Строительство или улучшение жилищных условий.\n",
        "\n",
        "5. **Микрокредиты**: Развитие мелкого предпринимательства.\n",
        "\n",
        "6. **Социальные нужды**: Покрытие семейных расходов.\n"
      ],
      "metadata": {
        "id": "yrDGlM054en5"
      }
    },
    {
      "cell_type": "markdown",
      "metadata": {
        "id": "95aeMj9USe17"
      },
      "source": [
        "____________"
      ]
    },
    {
      "cell_type": "markdown",
      "metadata": {
        "id": "4UAY_WhxSmDm"
      },
      "source": [
        "## Многомерный уровень бедности"
      ]
    },
    {
      "cell_type": "markdown",
      "metadata": {
        "id": "9MlyukpsTvC0"
      },
      "source": [
        "### Задание 1. Найдите топ-5 регионов по среднему уровню бедности. Для этого сгруппируйте данные таблицы ```df_mpi``` по параметру **region** и найдите среднее значение **MPI** по группам\n",
        "\n",
        "*Подсказка: для сортировки данных типа ```Series`` от большего значения к меньшему` , используйте метод ```sort_values``` с параметром `ascending = False`*."
      ]
    },
    {
      "cell_type": "code",
      "source": [
        "df_mean_mpi = df_mpi.groupby('country')['MPI'].mean()\n",
        "df_mean_mpi = df_mean_mpi.sort_values(ascending=False)\n",
        "df_mean_mpi.head(5)"
      ],
      "metadata": {
        "id": "y9tFuQmOGaom",
        "colab": {
          "base_uri": "https://localhost:8080/"
        },
        "outputId": "52fe15ae-6d5e-457b-8818-d94e9f166743"
      },
      "execution_count": null,
      "outputs": [
        {
          "output_type": "execute_result",
          "data": {
            "text/plain": [
              "country\n",
              "Chad            0.582905\n",
              "South Sudan     0.549778\n",
              "Burkina Faso    0.547692\n",
              "Niger           0.543375\n",
              "Ethiopia        0.492273\n",
              "Name: MPI, dtype: float64"
            ]
          },
          "metadata": {},
          "execution_count": 88
        }
      ]
    },
    {
      "cell_type": "markdown",
      "metadata": {
        "id": "WBGsWNAyUkek"
      },
      "source": [
        "### Задание 2. Постройте диаграму показателя **MPI** (многомерный индекс бедности) в разных странах"
      ]
    },
    {
      "cell_type": "code",
      "source": [
        "countries = df_mean_mpi.index.tolist()\n",
        "for country in countries:\n",
        "  df_mean_mpi.index == country\n",
        "\n",
        "print(len(set(countries)))"
      ],
      "metadata": {
        "id": "ddw0Y1laGdkI",
        "colab": {
          "base_uri": "https://localhost:8080/"
        },
        "outputId": "f3bcc66e-3aff-426e-8204-2e84682b3d26"
      },
      "execution_count": null,
      "outputs": [
        {
          "output_type": "stream",
          "name": "stdout",
          "text": [
            "102\n"
          ]
        }
      ]
    },
    {
      "cell_type": "code",
      "source": [
        "import matplotlib.pyplot as plt\n",
        "\n",
        "top = int(input())\n",
        "df_mean_mpi = df_mpi.groupby('country')['MPI'].mean()\n",
        "df_mean_mpi = df_mean_mpi.sort_values(ascending=False)\n",
        "df_mean_mpi = df_mean_mpi.head(top)\n",
        "\n",
        "plt.figure(figsize=(12, 6))\n",
        "plt.barh(df_mean_mpi.index, df_mean_mpi.values, color='skyblue')\n",
        "plt.xlabel('Средний MPI (многомерный индекс бедности)')\n",
        "plt.title(f'Средний MPI по топ - {top}/102 стран')\n",
        "plt.gca().invert_yaxis()\n",
        "plt.show()\n"
      ],
      "metadata": {
        "colab": {
          "base_uri": "https://localhost:8080/",
          "height": 575
        },
        "id": "d1_XH6p-mfhL",
        "outputId": "333e359c-bffe-4d31-bf52-5c5f11b55413"
      },
      "execution_count": null,
      "outputs": [
        {
          "name": "stdout",
          "output_type": "stream",
          "text": [
            "30\n"
          ]
        },
        {
          "output_type": "display_data",
          "data": {
            "text/plain": [
              "<Figure size 1200x600 with 1 Axes>"
            ],
            "image/png": "[encoded data removed]"
          },
          "metadata": {}
        }
      ]
    }
  ]
}